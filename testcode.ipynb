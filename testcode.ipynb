{
 "cells": [
  {
   "cell_type": "code",
   "execution_count": 10,
   "metadata": {},
   "outputs": [],
   "source": [
    "seq_len = 24 * 4 * 4\n",
    "\n",
    "border1s = [0, 12 * 30 * 24 + 4 * 30 * 24 - seq_len, 12 * 30 * 24 + 4 * 30 * 24 - seq_len]\n",
    "border2s = [12 * 30 * 24 + 4 * 30 * 24, 12 * 30 * 24 + 8 * 30 * 24, 12 * 30 * 24 + 8 * 30 * 24]\n",
    "\n",
    "flag = 'val'\n",
    "type_map = {'train': 0, 'val': 1, 'test': 2}\n",
    "set_type = type_map[flag]\n",
    "\n",
    "border1 = border1s[set_type]\n",
    "border2 = border2s[set_type]"
   ]
  },
  {
   "cell_type": "code",
   "execution_count": 16,
   "metadata": {},
   "outputs": [],
   "source": [
    "import torch\n",
    "\n",
    "def calcute_lags(x_enc):\n",
    "    q_fft = torch.fft.rfft(x_enc.permute(0, 2, 1).contiguous(), dim=-1)\n",
    "    k_fft = torch.fft.rfft(x_enc.permute(0, 2, 1).contiguous(), dim=-1)\n",
    "    res = q_fft * torch.conj(k_fft)\n",
    "    corr = torch.fft.irfft(res, dim=-1)\n",
    "    mean_value = torch.mean(corr, dim=1)\n",
    "    _, lags = torch.topk(mean_value, 1, dim=-1)\n",
    "    return lags"
   ]
  },
  {
   "cell_type": "code",
   "execution_count": 21,
   "metadata": {},
   "outputs": [
    {
     "name": "stdout",
     "output_type": "stream",
     "text": [
      "2 2 3\n"
     ]
    }
   ],
   "source": [
    "x_enc = torch.tensor([[\n",
    "[1,2,3],\n",
    "[4,5,6]\n",
    "],\n",
    "[\n",
    "[7,8,9],\n",
    "[10,11,12]\n",
    "]\n",
    "])\n",
    "B, T, N = x_enc.size()\n",
    "print(B, T, N)\n",
    "x_enc = x_enc.permute(0, 2, 1).contiguous().reshape(B * N, T, 1)\n",
    "min_values = torch.min(x_enc, dim=1)[0]\n",
    "max_values = torch.max(x_enc, dim=1)[0]\n",
    "medians = torch.median(x_enc, dim=1).values\n",
    "lags = calcute_lags(x_enc)\n",
    "trends = x_enc.diff(dim=1).sum(dim=1)"
   ]
  },
  {
   "cell_type": "code",
   "execution_count": 23,
   "metadata": {},
   "outputs": [
    {
     "name": "stdout",
     "output_type": "stream",
     "text": [
      "torch.Size([6, 2, 1])\n"
     ]
    }
   ],
   "source": [
    "print(x_enc.shape)"
   ]
  }
 ],
 "metadata": {
  "kernelspec": {
   "display_name": "pytorch",
   "language": "python",
   "name": "python3"
  },
  "language_info": {
   "codemirror_mode": {
    "name": "ipython",
    "version": 3
   },
   "file_extension": ".py",
   "mimetype": "text/x-python",
   "name": "python",
   "nbconvert_exporter": "python",
   "pygments_lexer": "ipython3",
   "version": "3.9.19"
  }
 },
 "nbformat": 4,
 "nbformat_minor": 2
}
